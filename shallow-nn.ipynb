{
  "nbformat": 4,
  "nbformat_minor": 0,
  "metadata": {
    "coursera": {
      "course_slug": "neural-networks-deep-learning",
      "graded_item_id": "XaIWT",
      "launcher_item_id": "zAgPl"
    },
    "kernelspec": {
      "display_name": "Python 3",
      "language": "python",
      "name": "python3"
    },
    "language_info": {
      "codemirror_mode": {
        "name": "ipython",
        "version": 3
      },
      "file_extension": ".py",
      "mimetype": "text/x-python",
      "name": "python",
      "nbconvert_exporter": "python",
      "pygments_lexer": "ipython3",
      "version": "3.5.2"
    },
    "colab": {
      "name": "shallow-nn.ipynb",
      "provenance": [],
      "collapsed_sections": [],
      "include_colab_link": true
    }
  },
  "cells": [
    {
      "cell_type": "markdown",
      "metadata": {
        "id": "view-in-github",
        "colab_type": "text"
      },
      "source": [
        "<a href=\"https://colab.research.google.com/github/gavin-bauer/recode-core-ml-from-scratch/blob/master/shallow-nn.ipynb\" target=\"_parent\"><img src=\"https://colab.research.google.com/assets/colab-badge.svg\" alt=\"Open In Colab\"/></a>"
      ]
    },
    {
      "cell_type": "markdown",
      "metadata": {
        "id": "64gYU428FXZZ",
        "colab_type": "text"
      },
      "source": [
        "# Recoding a one hidden layer neural network\n",
        "\n",
        "#### Synopsis\n",
        "In order to understand the details of the most frequent algorithms in Machine Learning, I have recoded the core concepts in Python using only Numpy (for computations) and Matplotlib (for visualizations).\n",
        "\n",
        "#### In this post\n",
        "I re-implement the main components of a one hidden layer neural network.\n",
        "\n",
        "#### NB\n",
        "It is recommended that the reader is familiar with fundamental machine learning concepts such as _features_, _target_, _parameters_, _learning rate_, etc..."
      ]
    },
    {
      "cell_type": "markdown",
      "metadata": {
        "id": "yZY4uEh-Ihny",
        "colab_type": "text"
      },
      "source": [
        "## Goal\n",
        "Build a shallow neural network (nn) capable of fitting a \"flower\" 2-class dataset. Therefore demonstrating how nn are able to fit more complex data compared to logistic regression.\n",
        "\n",
        "1. Create a \"flower\" 2-class dataset with purple (y=0) and yellow (y=1) points.\n",
        "\n",
        "2. Pass the data through the algorithm. \n",
        "\n",
        "3. The algorithm outputs a value between 0 and 1, which will be treated as the estimated probability that $y = 1$ on input x, which can be written as:\n",
        "\n",
        "$$P(y=1 | x ; \\theta)$$\n",
        "\n",
        "**The steps can be better visualized in the image below**\n",
        "\n",
        "<img src=\"https://raw.githubusercontent.com/Kulbear/deep-learning-coursera/997fdb2e2db67acd45d29ae418212463a54be06d/Neural%20Networks%20and%20Deep%20Learning/images/classification_kiank.png\" style=\"width:650px;height:400px;\">\n",
        "_Credits: Coursera_\n"
      ]
    },
    {
      "cell_type": "markdown",
      "metadata": {
        "id": "YrIyQPdtFXZd",
        "colab_type": "text"
      },
      "source": [
        "## 1 - Import packages"
      ]
    },
    {
      "cell_type": "code",
      "metadata": {
        "id": "iNITF8icFXZh",
        "colab_type": "code",
        "colab": {}
      },
      "source": [
        "import numpy as np\n",
        "import matplotlib.pyplot as plt\n",
        "\n",
        "%matplotlib inline"
      ],
      "execution_count": 0,
      "outputs": []
    },
    {
      "cell_type": "markdown",
      "metadata": {
        "id": "W3oJrFq2JTCV",
        "colab_type": "text"
      },
      "source": [
        "## 2 - Helper functions"
      ]
    },
    {
      "cell_type": "code",
      "metadata": {
        "id": "PsECDn7iGE2h",
        "colab_type": "code",
        "colab": {}
      },
      "source": [
        "def load_dataset():\n",
        "    \"\"\"\n",
        "    credits: coursera\n",
        "    \"\"\"\n",
        "    np.random.seed(1)\n",
        "    m = 400 # number of examples\n",
        "    N = int(m/2) # number of points per class\n",
        "    D = 2 # dimensionality\n",
        "    X = np.zeros((m,D)) # data matrix where each row is a single example\n",
        "    Y = np.zeros((m,1), dtype='uint8') # labels vector (0 for red, 1 for blue)\n",
        "    a = 4 # maximum ray of the flower\n",
        "\n",
        "    for j in range(2):\n",
        "        ix = range(N*j,N*(j+1))\n",
        "        t = np.linspace(j*3.12,(j+1)*3.12,N) + np.random.randn(N)*0.2 # theta\n",
        "        r = a*np.sin(4*t) + np.random.randn(N)*0.2 # radius\n",
        "        X[ix] = np.c_[r*np.sin(t), r*np.cos(t)]\n",
        "        Y[ix] = j\n",
        "        \n",
        "    X = X.T\n",
        "    Y = Y.T\n",
        "\n",
        "    return X, Y"
      ],
      "execution_count": 0,
      "outputs": []
    },
    {
      "cell_type": "code",
      "metadata": {
        "id": "ysLlreFzWV24",
        "colab_type": "code",
        "colab": {}
      },
      "source": [
        "def plot_dataset(X, Y):\n",
        "    \"\"\"\n",
        "    Plot an image of the dataset. \n",
        "\n",
        "    Arguments:\n",
        "    x -- A numpy array representing features\n",
        "    y -- A numpy array representing the labels\n",
        "\n",
        "    Return:\n",
        "    Plot\n",
        "    \"\"\"\n",
        "    \n",
        "    plt.scatter(X[0], X[1], c=Y)\n",
        "    plt.show()"
      ],
      "execution_count": 0,
      "outputs": []
    },
    {
      "cell_type": "code",
      "metadata": {
        "id": "9q4F7x2NpwFe",
        "colab_type": "code",
        "colab": {}
      },
      "source": [
        "def get_info(X, Y):\n",
        "    print(\"number of training examples:\", X.shape[1])\n",
        "    print(\"shape of X:\", X.shape)\n",
        "    print(\"shape of Y:\", Y.shape)"
      ],
      "execution_count": 0,
      "outputs": []
    },
    {
      "cell_type": "code",
      "metadata": {
        "id": "nTydsGzBFXao",
        "colab_type": "code",
        "colab": {}
      },
      "source": [
        "def sigmoid(z):\n",
        "    \"\"\"\n",
        "    Compute the sigmoid of z\n",
        "\n",
        "    Arguments:\n",
        "    x -- A scalar or numpy array of any size.\n",
        "\n",
        "    Return:\n",
        "    s -- sigmoid(z)\n",
        "    \"\"\"\n",
        "\n",
        "    s = 1 / (1 + np.exp(-z))\n",
        "    \n",
        "    return s"
      ],
      "execution_count": 0,
      "outputs": []
    },
    {
      "cell_type": "code",
      "metadata": {
        "id": "sjdvGv4fFXbx",
        "colab_type": "code",
        "colab": {}
      },
      "source": [
        "def plot_learning_curve(costs):\n",
        "    costs = np.squeeze(costs)\n",
        "    plt.plot(costs)\n",
        "    plt.ylabel('cost')\n",
        "    plt.xlabel('iterations (per hundreds)')\n",
        "    plt.show()"
      ],
      "execution_count": 0,
      "outputs": []
    },
    {
      "cell_type": "code",
      "metadata": {
        "id": "eHo5gtAvArFZ",
        "colab_type": "code",
        "colab": {}
      },
      "source": [
        "def plot_decision_boundary(model, X, y):\n",
        "    \"\"\"\n",
        "    credits: coursera\n",
        "    \"\"\"\n",
        "    # Set min and max values and give it some padding\n",
        "    x_min, x_max = X[0, :].min() - 1, X[0, :].max() + 1\n",
        "    y_min, y_max = X[1, :].min() - 1, X[1, :].max() + 1\n",
        "    h = 0.01\n",
        "    # Generate a grid of points with distance h between them\n",
        "    xx, yy = np.meshgrid(np.arange(x_min, x_max, h), np.arange(y_min, y_max, h))\n",
        "    # Predict the function value for the whole grid\n",
        "    Z = model(np.c_[xx.ravel(), yy.ravel()])\n",
        "    Z = Z.reshape(xx.shape)\n",
        "    # Plot the contour and training examples\n",
        "    plt.contourf(xx, yy, Z)\n",
        "    plt.ylabel('x2')\n",
        "    plt.xlabel('x1')\n",
        "    plt.scatter(X[0, :], X[1, :], c=y)"
      ],
      "execution_count": 0,
      "outputs": []
    },
    {
      "cell_type": "markdown",
      "metadata": {
        "collapsed": true,
        "id": "QRckLs-WFXZt",
        "colab_type": "text"
      },
      "source": [
        "## 3 - Load, explore and preprocess the dataset"
      ]
    },
    {
      "cell_type": "markdown",
      "metadata": {
        "id": "mvCB2G1NFXZ3",
        "colab_type": "text"
      },
      "source": [
        "Each line in `X` represents 2 features of a single instance.\n",
        "\n",
        "Each line `Y` is represents the class of a single instance."
      ]
    },
    {
      "cell_type": "code",
      "metadata": {
        "id": "LlnFaDOXFXZv",
        "colab_type": "code",
        "colab": {}
      },
      "source": [
        "# Load dataset\n",
        "X, Y = load_dataset()"
      ],
      "execution_count": 0,
      "outputs": []
    },
    {
      "cell_type": "code",
      "metadata": {
        "id": "w__0MgzmFXZ6",
        "colab_type": "code",
        "outputId": "de8424f4-65e8-4342-e46f-aac5561302f9",
        "colab": {
          "base_uri": "https://localhost:8080/",
          "height": 265
        }
      },
      "source": [
        "# Example of a picture\n",
        "plot_dataset(X, Y)"
      ],
      "execution_count": 0,
      "outputs": [
        {
          "output_type": "display_data",
          "data": {
            "image/png": "[encoded data removed]",
            "text/plain": [
              "<Figure size 432x288 with 1 Axes>"
            ]
          },
          "metadata": {
            "tags": []
          }
        }
      ]
    },
    {
      "cell_type": "code",
      "metadata": {
        "id": "Ce2P40N8Au6R",
        "colab_type": "code",
        "outputId": "f59263a0-a71e-42b0-9a7e-1dd8b44ffbf2",
        "colab": {
          "base_uri": "https://localhost:8080/",
          "height": 72
        }
      },
      "source": [
        "# Explore dataset\n",
        "get_info(X, Y)"
      ],
      "execution_count": 0,
      "outputs": [
        {
          "output_type": "stream",
          "text": [
            "number of training examples: 400\n",
            "shape of X: (2, 400)\n",
            "shape of Y: (1, 400)\n"
          ],
          "name": "stdout"
        }
      ]
    },
    {
      "cell_type": "markdown",
      "metadata": {
        "id": "mNASHuHmFXam",
        "colab_type": "text"
      },
      "source": [
        "## 4 - Build the model's components\n",
        "\n",
        "The main steps for building a nn are:\n",
        "\n",
        "1. Define the nn structure (number of inputs, number of hidden layers, etc...)\n",
        "\n",
        "2. Initialize the model's parameters ( \\\\( \\theta \\\\) )\n",
        "\n",
        "3. Loop:\n",
        "    - Implement forward propagation \n",
        "    - Compute loss \n",
        "    - Implement backward propagation\n",
        "    - Update parameters (gradient descent)"
      ]
    },
    {
      "cell_type": "markdown",
      "metadata": {
        "id": "n2Ib2_5liyh-",
        "colab_type": "text"
      },
      "source": [
        "#### 4.1 Define the nn's structure\n",
        "\n",
        "The nn being implemented is a one hidden layer nn, with 4 units."
      ]
    },
    {
      "cell_type": "code",
      "metadata": {
        "id": "aeUwdcm7iIf5",
        "colab_type": "code",
        "colab": {}
      },
      "source": [
        "def layer_sizes(X, Y):\n",
        "    \"\"\"\n",
        "    Arguments:\n",
        "    X -- input dataset of shape (input size, number of examples)\n",
        "    Y -- labels of shape (output size, number of examples)\n",
        "    \n",
        "    Returns:\n",
        "    n_x -- the size of the input layer\n",
        "    n_h -- the size of the hidden layer\n",
        "    n_y -- the size of the output layer\n",
        "    \"\"\"\n",
        "    n_x = X.shape[0]\n",
        "    n_h = 4\n",
        "    n_y = Y.shape[0]\n",
        "    return (n_x, n_h, n_y)"
      ],
      "execution_count": 0,
      "outputs": []
    },
    {
      "cell_type": "markdown",
      "metadata": {
        "id": "PUTqqIMWcMs9",
        "colab_type": "text"
      },
      "source": [
        "#### 4.2. Initialize the parameters\n",
        "\n",
        "* $W$ is a parameter matrix, randomly initialized\n",
        "* $b$ is a vector, initialized with a zero"
      ]
    },
    {
      "cell_type": "code",
      "metadata": {
        "id": "1xFOJZ9nFXa1",
        "colab_type": "code",
        "colab": {}
      },
      "source": [
        "def initialize_parameters(n_x, n_h, n_y):\n",
        "    \"\"\"\n",
        "    Argument:\n",
        "    n_x -- size of the input layer\n",
        "    n_h -- size of the hidden layer\n",
        "    n_y -- size of the output layer\n",
        "    \n",
        "    Returns:\n",
        "    params -- dictionary containing the parameters:\n",
        "                    W1 -- weight matrix of shape (n_h, n_x)\n",
        "                    b1 -- bias vector of shape (n_h, 1)\n",
        "                    W2 -- weight matrix of shape (n_y, n_h)\n",
        "                    b2 -- bias vector of shape (n_y, 1)\n",
        "    \"\"\"\n",
        "        \n",
        "    W1 = np.random.randn(n_h, n_x) * 0.01\n",
        "    b1 = np.zeros(shape=(n_h, 1))\n",
        "    W2 = np.random.randn(n_y, n_h) * 0.01\n",
        "    b2 = np.zeros(shape=(n_y, 1))\n",
        "    \n",
        "    assert (W1.shape == (n_h, n_x))\n",
        "    assert (b1.shape == (n_h, 1))\n",
        "    assert (W2.shape == (n_y, n_h))\n",
        "    assert (b2.shape == (n_y, 1))\n",
        "    \n",
        "    parameters = {\"W1\": W1,\n",
        "                  \"b1\": b1,\n",
        "                  \"W2\": W2,\n",
        "                  \"b2\": b2}\n",
        "    \n",
        "    return parameters"
      ],
      "execution_count": 0,
      "outputs": []
    },
    {
      "cell_type": "markdown",
      "metadata": {
        "id": "53P_zf6XFXbA",
        "colab_type": "text"
      },
      "source": [
        "### 4.3 - Loop: forward and backward propagation and update parameters\n",
        "\n",
        "Implement the \"forward\" and \"backward\" propagation steps for learning the parameters iteratively, using gradient descent."
      ]
    },
    {
      "cell_type": "markdown",
      "metadata": {
        "id": "qO89LX5C4xzi",
        "colab_type": "text"
      },
      "source": [
        "#### 4.3.1 Forward Propagation\n",
        "\n",
        "For one example ( \\\\( x^{(i)} \\\\) ) and a single iteration, the forward pass can be mathematically represented in the four steps as follow:\n",
        "\n",
        "$$z^{[1] (i)} =  W^{[1]} x^{(i)} + b^{[1] (i)}\\tag{1}$$ \n",
        "$$a^{[1] (i)} = \\tanh(z^{[1] (i)})\\tag{2}$$\n",
        "$$z^{[2] (i)} = W^{[2]} a^{[1] (i)} + b^{[2] (i)}\\tag{3}$$\n",
        "$$a^{[2] (i)} = \\sigma(z^{ [2] (i)})\\tag{4}$$\n"
      ]
    },
    {
      "cell_type": "code",
      "metadata": {
        "id": "cE-tPR7SdZu1",
        "colab_type": "code",
        "colab": {}
      },
      "source": [
        "def forward_propagation(X, parameters):\n",
        "    \"\"\"\n",
        "    Argument:\n",
        "    X -- input data of size (n_x, m)\n",
        "    parameters -- dictionary containing the parameters (output of initialization function)\n",
        "    \n",
        "    Returns:\n",
        "    A2 -- the sigmoid output of the second activation\n",
        "    cache -- dictionary containing \"Z1\", \"A1\", \"Z2\" and \"A2\"\n",
        "    \"\"\"\n",
        "    W1 = parameters['W1']\n",
        "    b1 = parameters['b1']\n",
        "    W2 = parameters['W2']\n",
        "    b2 = parameters['b2']\n",
        "    \n",
        "    Z1 = np.dot(W1, X) + b1\n",
        "    A1 = np.tanh(Z1)\n",
        "    Z2 = np.dot(W2, A1) + b2\n",
        "    A2 = sigmoid(Z2)\n",
        "    \n",
        "    assert(A2.shape == (1, X.shape[1]))\n",
        "    \n",
        "    cache = {\"Z1\": Z1,\n",
        "             \"A1\": A1,\n",
        "             \"Z2\": Z2,\n",
        "             \"A2\": A2}\n",
        "    \n",
        "    return A2, cache"
      ],
      "execution_count": 0,
      "outputs": []
    },
    {
      "cell_type": "markdown",
      "metadata": {
        "id": "y-DmcqZmBx1I",
        "colab_type": "text"
      },
      "source": [
        "#### 4.3.2 Compute cost\n",
        "\n",
        "Now that $A^{[2]}$ (which contains $a^{[2](i)}$ for every example) has been computed, the cost function can be calculated as follows:\n",
        "\n",
        "$$J = - \\frac{1}{m} \\sum\\limits_{i = 0}^{m} \\large{(} \\small y^{(i)}\\log\\left(a^{[2] (i)}\\right) + (1-y^{(i)})\\log\\left(1- a^{[2] (i)}\\right) \\large{)} \\small$$\n"
      ]
    },
    {
      "cell_type": "code",
      "metadata": {
        "id": "O4xYWp8t1Q-V",
        "colab_type": "code",
        "colab": {}
      },
      "source": [
        "def compute_cost(A2, Y):\n",
        "    \"\"\"\n",
        "    Computes the cross-entropy cost\n",
        "    \n",
        "    Arguments:\n",
        "    A2 -- The sigmoid output of the second activation, of shape (1, number of examples)\n",
        "    Y -- \"true\" labels vector of shape (1, number of examples)\n",
        "    \n",
        "    Returns:\n",
        "    cost -- cross-entropy cost\n",
        "    \"\"\"\n",
        "    \n",
        "    m = Y.shape[1]\n",
        "    \n",
        "    logprobs = np.multiply(np.log(A2), Y) + np.multiply((1 - Y), np.log(1 - A2))\n",
        "    cost = - np.sum(logprobs) / m\n",
        "    \n",
        "    cost = np.squeeze(cost)\n",
        "\n",
        "    assert(isinstance(cost, float))\n",
        "    \n",
        "    return cost"
      ],
      "execution_count": 0,
      "outputs": []
    },
    {
      "cell_type": "markdown",
      "metadata": {
        "id": "uVv7fYFQ4Nvy",
        "colab_type": "text"
      },
      "source": [
        "####4.3.3 Back propagation\n",
        "\n",
        "Finetune the parameters by computing the gradient of the loss function with respect to the parameters.\n",
        "\n",
        "Mathematically, this is expressed as:\n",
        "\n",
        "<img src=\"https://github.com/gavin-bauer/blog/blob/master/static/images/Shallow-nn/grads-formulas.png\" style=\"width:600px;height:300px;\">\n",
        "_Credits: Coursera_"
      ]
    },
    {
      "cell_type": "code",
      "metadata": {
        "id": "PE2aRTjdehkL",
        "colab_type": "code",
        "colab": {}
      },
      "source": [
        "def backward_propagation(parameters, cache, X, Y):\n",
        "    \"\"\"\n",
        "    Implement the backward propagation using the instructions above.\n",
        "    \n",
        "    Arguments:\n",
        "    parameters -- dictionary containing our parameters \n",
        "    cache -- dictionary containing \"Z1\", \"A1\", \"Z2\" and \"A2\".\n",
        "    X -- input data of shape (2, number of examples)\n",
        "    Y -- \"true\" labels vector of shape (1, number of examples)\n",
        "    \n",
        "    Returns:\n",
        "    grads -- dictionary containing your gradients with respect to different parameters\n",
        "    \"\"\"\n",
        "    m = X.shape[1]\n",
        "\n",
        "    W1 = parameters['W1']\n",
        "    W2 = parameters['W2']\n",
        "    A1 = cache['A1']\n",
        "    A2 = cache['A2']\n",
        "    \n",
        "    dZ2= A2 - Y\n",
        "    dW2 = (1 / m) * np.dot(dZ2, A1.T)\n",
        "    db2 = (1 / m) * np.sum(dZ2, axis=1, keepdims=True)\n",
        "    dZ1 = np.multiply(np.dot(W2.T, dZ2), 1 - np.power(A1, 2))\n",
        "    dW1 = (1 / m) * np.dot(dZ1, X.T)\n",
        "    db1 = (1 / m) * np.sum(dZ1, axis=1, keepdims=True)\n",
        "    \n",
        "    grads = {\"dW1\": dW1,\n",
        "             \"db1\": db1,\n",
        "             \"dW2\": dW2,\n",
        "             \"db2\": db2}\n",
        "    \n",
        "    return grads"
      ],
      "execution_count": 0,
      "outputs": []
    },
    {
      "cell_type": "markdown",
      "metadata": {
        "id": "BZWN8yzWFXbM",
        "colab_type": "text"
      },
      "source": [
        "#### 4.3.3 The optimization function\n",
        "\n",
        "In order to find the best parameters that minize the cost function, the parameters will be updated iteratively using an algorithm called \"Gradient Descent\".\n",
        "\n",
        "For a parameter $\\theta$, the update rule is $ \\theta = \\theta - \\alpha \\text{ } d\\theta$, where $\\alpha$ is the learning rate."
      ]
    },
    {
      "cell_type": "code",
      "metadata": {
        "id": "XekaopqLgmzO",
        "colab_type": "code",
        "colab": {}
      },
      "source": [
        "def update_parameters(parameters, grads, learning_rate=1.2):\n",
        "    \"\"\"\n",
        "    Updates parameters using the gradient descent update rule given above\n",
        "    \n",
        "    Arguments:\n",
        "    parameters -- dictionary containing your parameters \n",
        "    grads -- dictionary containing your gradients \n",
        "    \n",
        "    Returns:\n",
        "    parameters -- dictionary containing your updated parameters \n",
        "    \"\"\"\n",
        "\n",
        "    W1 = parameters['W1']\n",
        "    b1 = parameters['b1']\n",
        "    W2 = parameters['W2']\n",
        "    b2 = parameters['b2']\n",
        "\n",
        "    dW1 = grads['dW1']\n",
        "    db1 = grads['db1']\n",
        "    dW2 = grads['dW2']\n",
        "    db2 = grads['db2']\n",
        "\n",
        "    W1 -= learning_rate * dW1\n",
        "    b1 -= learning_rate * db1\n",
        "    W2 -= learning_rate * dW2\n",
        "    b2 -= learning_rate * db2\n",
        "    \n",
        "    parameters = {\"W1\": W1,\n",
        "                  \"b1\": b1,\n",
        "                  \"W2\": W2,\n",
        "                  \"b2\": b2}\n",
        "    \n",
        "    return parameters"
      ],
      "execution_count": 0,
      "outputs": []
    },
    {
      "cell_type": "markdown",
      "metadata": {
        "id": "ixSoqGZR8twd",
        "colab_type": "text"
      },
      "source": [
        "#### 4.4 Bring everything together"
      ]
    },
    {
      "cell_type": "code",
      "metadata": {
        "id": "NpeQalLW81mC",
        "colab_type": "code",
        "colab": {}
      },
      "source": [
        "def build_nn(X, Y, n_h, num_iterations=10000, print_cost=False):\n",
        "    \"\"\"\n",
        "    Arguments:\n",
        "    X -- dataset of shape (2, number of examples)\n",
        "    Y -- labels of shape (1, number of examples)\n",
        "    n_h -- size of the hidden layer\n",
        "    num_iterations -- Number of iterations in gradient descent loop\n",
        "    print_cost -- if True, print the cost every 1000 iterations\n",
        "    \n",
        "    Returns:\n",
        "    parameters -- parameters learnt by the model. They can then be used to predict.\n",
        "    \"\"\"\n",
        "\n",
        "    np.random.seed(3)\n",
        "    n_x = layer_sizes(X, Y)[0]\n",
        "    n_y = layer_sizes(X, Y)[2]\n",
        "    \n",
        "    parameters = initialize_parameters(n_x, n_h, n_y)\n",
        "    W1 = parameters['W1']\n",
        "    b1 = parameters['b1']\n",
        "    W2 = parameters['W2']\n",
        "    b2 = parameters['b2']\n",
        "\n",
        "    costs = []\n",
        "\n",
        "    for i in range(0, num_iterations):\n",
        "        A2, cache = forward_propagation(X, parameters)     \n",
        "        cost = compute_cost(A2, Y)\n",
        "        grads = backward_propagation(parameters, cache, X, Y)\n",
        "        parameters = update_parameters(parameters, grads)\n",
        "        if print_cost and i % 1000 == 0:\n",
        "            print (\"Cost after iteration %i: %f\" % (i, cost))\n",
        "            costs.append(cost)\n",
        "\n",
        "    return parameters, costs"
      ],
      "execution_count": 0,
      "outputs": []
    },
    {
      "cell_type": "code",
      "metadata": {
        "id": "Ua3afseZFXbR",
        "colab_type": "code",
        "outputId": "9e157989-54f4-4321-b6e6-519cade62a46",
        "colab": {
          "base_uri": "https://localhost:8080/",
          "height": 426
        }
      },
      "source": [
        "parameters, costs = build_nn(X, Y, 4, num_iterations=8000, print_cost=True)\n",
        "plot_learning_curve(costs)"
      ],
      "execution_count": 0,
      "outputs": [
        {
          "output_type": "stream",
          "text": [
            "Cost after iteration 0: 0.693162\n",
            "Cost after iteration 1000: 0.258625\n",
            "Cost after iteration 2000: 0.239334\n",
            "Cost after iteration 3000: 0.230802\n",
            "Cost after iteration 4000: 0.225528\n",
            "Cost after iteration 5000: 0.221845\n",
            "Cost after iteration 6000: 0.219094\n",
            "Cost after iteration 7000: 0.220621\n"
          ],
          "name": "stdout"
        },
        {
          "output_type": "display_data",
          "data": {
            "image/png": "[encoded data removed]",
            "text/plain": [
              "<Figure size 432x288 with 1 Axes>"
            ]
          },
          "metadata": {
            "tags": []
          }
        }
      ]
    },
    {
      "cell_type": "markdown",
      "metadata": {
        "id": "ITHxEIUQ5Lyj",
        "colab_type": "text"
      },
      "source": [
        "## 5 - Predictions\n",
        "\n",
        "Using the learned parameters, it is possible to predict the labels (denoted $\\hat{Y}$) for a dataset X. The algorithm outputs a value between 0 and 1, which should be treated as the estimated probability that $y = 1$ on input x, which can be written as:\n",
        "\n",
        "$$\\hat{Y} = P(y=1 | x ; \\theta)$$\n",
        "\n",
        "By setting a threshold at 0.5, it would be possible to declare the following:\n",
        "\n",
        "$$y^{(i)}_{prediction} = \\begin{cases} 1 & \\mbox{if } a^{[2](i)} > 0.5 \\\\ 0 & \\mbox{otherwise } \\end{cases}$$"
      ]
    },
    {
      "cell_type": "code",
      "metadata": {
        "id": "DnEWSRZ49nSR",
        "colab_type": "code",
        "colab": {}
      },
      "source": [
        "def predict(parameters, X):\n",
        "    \"\"\"\n",
        "    Using the learned parameters, predicts a class for each example in X\n",
        "    \n",
        "    Arguments:\n",
        "    parameters -- python dictionary containing your parameters \n",
        "    X -- input data of size (n_x, m)\n",
        "    \n",
        "    Returns\n",
        "    predictions -- vector of predictions of our model (red: 0 / blue: 1)\n",
        "    \"\"\"\n",
        "    \n",
        "    # Computes probabilities using forward propagation, and classifies to 0/1 using 0.5 as the threshold.\n",
        "    A2, cache = forward_propagation(X, parameters)\n",
        "    predictions = np.round(A2)\n",
        "    \n",
        "    return predictions"
      ],
      "execution_count": 0,
      "outputs": []
    },
    {
      "cell_type": "code",
      "metadata": {
        "id": "UizPL0kEA1yl",
        "colab_type": "code",
        "outputId": "fe289bcb-a322-44e4-a1ed-51859557a8f0",
        "colab": {
          "base_uri": "https://localhost:8080/",
          "height": 313
        }
      },
      "source": [
        "plot_decision_boundary(lambda x: predict(parameters, x.T), X, Y)\n",
        "plt.title(\"Decision Boundary for hidden layer size \" + str(4))\n",
        "\n",
        "# Print accuracy\n",
        "predictions = predict(parameters, X)\n",
        "print ('Accuracy: %d' % float((np.dot(Y, predictions.T) + np.dot(1 - Y, 1 - predictions.T)) / float(Y.size) * 100) + '%')"
      ],
      "execution_count": 0,
      "outputs": [
        {
          "output_type": "stream",
          "text": [
            "Accuracy: 90%\n"
          ],
          "name": "stdout"
        },
        {
          "output_type": "display_data",
          "data": {
            "image/png": "[encoded data removed]",
            "text/plain": [
              "<Figure size 432x288 with 1 Axes>"
            ]
          },
          "metadata": {
            "tags": []
          }
        }
      ]
    },
    {
      "cell_type": "markdown",
      "metadata": {
        "collapsed": true,
        "id": "1OTbV7TMFXbr",
        "colab_type": "text"
      },
      "source": [
        "**Comment**: \n",
        "* Accuracy is really high as the model has learnt the leaf patterns of the flower! \n",
        "* Loss drops sharply after first 1,000 iterations, before diminishing more slowly going forward.\n",
        "* Compared to Logistic Regression, nn are able to learn even highly non-linear decision boundaries."
      ]
    },
    {
      "cell_type": "code",
      "metadata": {
        "id": "A3l17dkUX_3u",
        "colab_type": "code",
        "outputId": "ab8d7e4b-c323-4e36-d327-52aab4d32945",
        "colab": {
          "base_uri": "https://localhost:8080/",
          "height": 336
        }
      },
      "source": [
        "from sklearn import linear_model\n",
        "\n",
        "log_reg = linear_model.LogisticRegression()\n",
        "log_reg.fit(X.T, Y.T)\n",
        "plot_decision_boundary(lambda x: log_reg.predict(x), X, Y)"
      ],
      "execution_count": 0,
      "outputs": [
        {
          "output_type": "stream",
          "text": [
            "/usr/local/lib/python3.6/dist-packages/sklearn/utils/validation.py:760: DataConversionWarning: A column-vector y was passed when a 1d array was expected. Please change the shape of y to (n_samples, ), for example using ravel().\n",
            "  y = column_or_1d(y, warn=True)\n"
          ],
          "name": "stderr"
        },
        {
          "output_type": "display_data",
          "data": {
            "image/png": "[encoded data removed]",
            "text/plain": [
              "<Figure size 432x288 with 1 Axes>"
            ]
          },
          "metadata": {
            "tags": []
          }
        }
      ]
    }
  ]
}